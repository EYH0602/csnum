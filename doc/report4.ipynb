{
 "cells": [
  {
   "cell_type": "code",
   "execution_count": 1,
   "metadata": {},
   "outputs": [],
   "source": [
    "import numpy as np\n",
    "import pandas as pd\n",
    "from numerical_methods.eigen_system import power_method, inverse_power_method\n",
    "import time"
   ]
  },
  {
   "cell_type": "code",
   "execution_count": 2,
   "metadata": {},
   "outputs": [],
   "source": [
    "def rand_mat(n=50):\n",
    "    B = np.random.normal(size=(n, n))\n",
    "    A = np.eye(n) / 2 + B + B.T\n",
    "    return A\n",
    "\n",
    "\n",
    "def vec_err(A, x, val, val_true):\n",
    "    return np.linalg.norm(A @ x - val * x, ord=np.inf) / val_true"
   ]
  },
  {
   "cell_type": "code",
   "execution_count": 3,
   "metadata": {},
   "outputs": [],
   "source": [
    "pow_time = []\n",
    "pow_val_err = []\n",
    "pow_vec_err = []\n",
    "inv_time = []\n",
    "inv_val_err = []\n",
    "inv_vec_err = []\n",
    "\n",
    "for _ in range(25):\n",
    "    A = rand_mat(n=50)\n",
    "    x0 = np.ones(shape=(50,1))\n",
    "    \n",
    "    val_true, vec_true = np.linalg.eig(A)\n",
    "    max_idx = np.argmax(np.abs(val_true))\n",
    "    min_idx = np.argmin(np.abs(val_true))\n",
    "    max_val_true = val_true[max_idx]\n",
    "    max_vec_true = vec_true[max_idx]\n",
    "    min_val_true = val_true[min_idx]\n",
    "    min_vec_true = vec_true[min_idx]\n",
    "    \n",
    "    pow_start = time.time()\n",
    "    val_pow, vec_pow = power_method(A, x0).unwrap()\n",
    "    pow_time.append(time.time() - pow_start)\n",
    "    pow_val_err.append(np.abs(val_pow - max_val_true))\n",
    "    pow_vec_err.append(vec_err(A, vec_pow, val_pow, max_vec_true))\n",
    "    \n",
    "    inv_start = time.time()\n",
    "    val_inv, vec_inv = inverse_power_method(A, x0, q=0).unwrap()\n",
    "    inv_time.append(time.time() - inv_start)\n",
    "    inv_val_err.append(np.abs(val_inv - min_val_true))\n",
    "    inv_vec_err.append(vec_err(A, vec_inv, val_inv, min_vec_true))"
   ]
  },
  {
   "cell_type": "code",
   "execution_count": 4,
   "metadata": {},
   "outputs": [
    {
     "data": {
      "text/html": [
       "<div>\n",
       "<style scoped>\n",
       "    .dataframe tbody tr th:only-of-type {\n",
       "        vertical-align: middle;\n",
       "    }\n",
       "\n",
       "    .dataframe tbody tr th {\n",
       "        vertical-align: top;\n",
       "    }\n",
       "\n",
       "    .dataframe thead th {\n",
       "        text-align: right;\n",
       "    }\n",
       "</style>\n",
       "<table border=\"1\" class=\"dataframe\">\n",
       "  <thead>\n",
       "    <tr style=\"text-align: right;\">\n",
       "      <th></th>\n",
       "      <th>lambda time</th>\n",
       "      <th>lambda error</th>\n",
       "      <th>Vector Error</th>\n",
       "    </tr>\n",
       "  </thead>\n",
       "  <tbody>\n",
       "    <tr>\n",
       "      <th>Smallest Eig</th>\n",
       "      <td>0.009330</td>\n",
       "      <td>0.000003</td>\n",
       "      <td>0.000067</td>\n",
       "    </tr>\n",
       "    <tr>\n",
       "      <th>Largest Eig</th>\n",
       "      <td>0.009005</td>\n",
       "      <td>0.000636</td>\n",
       "      <td>0.036263</td>\n",
       "    </tr>\n",
       "  </tbody>\n",
       "</table>\n",
       "</div>"
      ],
      "text/plain": [
       "              lambda time  lambda error  Vector Error\n",
       "Smallest Eig     0.009330      0.000003      0.000067\n",
       "Largest Eig      0.009005      0.000636      0.036263"
      ]
     },
     "execution_count": 4,
     "metadata": {},
     "output_type": "execute_result"
    }
   ],
   "source": [
    "df = pd.DataFrame({\n",
    "    \"Smallest Eig\": [np.mean(xs) for xs in [inv_time, inv_val_err, inv_vec_err]],\n",
    "    \"Largest Eig\": [np.mean(xs) for xs in [pow_time, pow_val_err, pow_vec_err]]   \n",
    "}).T\n",
    "df = df.set_axis([\"lambda time\", \"lambda error\", \"Vector Error\"], axis=1)\n",
    "df"
   ]
  }
 ],
 "metadata": {
  "kernelspec": {
   "display_name": "base",
   "language": "python",
   "name": "python3"
  },
  "language_info": {
   "codemirror_mode": {
    "name": "ipython",
    "version": 3
   },
   "file_extension": ".py",
   "mimetype": "text/x-python",
   "name": "python",
   "nbconvert_exporter": "python",
   "pygments_lexer": "ipython3",
   "version": "3.10.8"
  },
  "orig_nbformat": 4
 },
 "nbformat": 4,
 "nbformat_minor": 2
}
