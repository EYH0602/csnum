{
 "cells": [
  {
   "cell_type": "code",
   "execution_count": 2,
   "metadata": {},
   "outputs": [],
   "source": [
    "import numpy as np\n",
    "from returns.maybe import Maybe, Some, Nothing\n",
    "from numerical_methods.linear_direct_methods import (\n",
    "    gaussian_elimination,\n",
    "    back_substitution,\n",
    "    lu_decomposition,\n",
    "    lu_solve,\n",
    "    gauss_solve,\n",
    ")\n",
    "import time\n",
    "import pandas as pd\n",
    "from returns.curry import partial"
   ]
  },
  {
   "cell_type": "code",
   "execution_count": 3,
   "metadata": {},
   "outputs": [
    {
     "data": {
      "text/plain": [
       "(array([[1.   , 0.   , 0.   ],\n",
       "        [3.5  , 1.   , 0.   ],\n",
       "        [4.5  , 0.875, 1.   ]]),\n",
       " matrix([[  2.    ,   4.    ,   5.    ],\n",
       "         [  0.    ,  -8.    , -12.5   ],\n",
       "         [  0.    ,   0.    ,  -8.5625]]))"
      ]
     },
     "execution_count": 3,
     "metadata": {},
     "output_type": "execute_result"
    }
   ],
   "source": [
    "A = np.matrix([[2, 4, 5], [7, 6, 5], [9, 11, 3]], dtype=float)\n",
    "b = np.array([3, 2, 1]).reshape((3, 1))\n",
    "U, L = lu_decomposition(A).unwrap()\n",
    "L, U\n"
   ]
  },
  {
   "cell_type": "code",
   "execution_count": 4,
   "metadata": {},
   "outputs": [
    {
     "data": {
      "text/plain": [
       "(matrix([[ 9.        , 11.        ,  3.        ],\n",
       "         [ 0.        , -2.55555556,  2.66666667],\n",
       "         [ 0.        ,  0.        ,  5.95652174]]),\n",
       " array([[ 1.        ,  0.        ,  0.        ],\n",
       "        [ 0.77777778,  1.        ,  0.        ],\n",
       "        [ 0.22222222, -0.60869565,  1.        ]]))"
      ]
     },
     "execution_count": 4,
     "metadata": {},
     "output_type": "execute_result"
    }
   ],
   "source": [
    "gaussian_elimination(A, pivot=\"partial\").unwrap()"
   ]
  },
  {
   "cell_type": "code",
   "execution_count": 5,
   "metadata": {},
   "outputs": [
    {
     "data": {
      "text/plain": [
       "array([[-0.25547445],\n",
       "       [ 0.13868613],\n",
       "       [ 0.59124088]])"
      ]
     },
     "execution_count": 5,
     "metadata": {},
     "output_type": "execute_result"
    }
   ],
   "source": [
    "mat, _ = gaussian_elimination(np.hstack((A, b))).unwrap()\n",
    "back_substitution(mat[:, :-1], mat[:, [-1]])\n"
   ]
  },
  {
   "cell_type": "code",
   "execution_count": 6,
   "metadata": {},
   "outputs": [
    {
     "data": {
      "text/plain": [
       "<Some: [[-0.25547445]\n",
       " [ 0.13868613]\n",
       " [ 0.59124088]]>"
      ]
     },
     "execution_count": 6,
     "metadata": {},
     "output_type": "execute_result"
    }
   ],
   "source": [
    "gauss_solve(A, b)\n"
   ]
  },
  {
   "cell_type": "code",
   "execution_count": 7,
   "metadata": {},
   "outputs": [
    {
     "data": {
      "text/plain": [
       "array([[-0.25547445],\n",
       "       [ 0.13868613],\n",
       "       [ 0.59124088]])"
      ]
     },
     "execution_count": 7,
     "metadata": {},
     "output_type": "execute_result"
    }
   ],
   "source": [
    "lu_solve(L, U, b)\n"
   ]
  },
  {
   "cell_type": "code",
   "execution_count": 8,
   "metadata": {},
   "outputs": [],
   "source": [
    "def get_err(n, m = 100):\n",
    "    x1_errs = []\n",
    "    x2_errs = []\n",
    "    x3_errs = []\n",
    "    x1_time = []\n",
    "    x2_time = []\n",
    "    x3_time = []\n",
    "\n",
    "    for _ in range(m):\n",
    "        A = 5 * np.eye(n) + np.random.normal(size=(n, n))\n",
    "        b = np.random.normal(size=(n, 1))\n",
    "        \n",
    "        x1_start = time.time()\n",
    "        x1 = gauss_solve(A, b).unwrap()\n",
    "        x1_time.append(time.time() - x1_start)\n",
    "        \n",
    "        x2_start = time.time()\n",
    "        U, L = lu_decomposition(A).unwrap()\n",
    "        x2 = lu_solve(L, U, b)\n",
    "        x2_time.append(time.time() - x2_start)\n",
    "\n",
    "        x3_start = time.time()\n",
    "        x3 = np.linalg.solve(A, b)\n",
    "        x3_time.append(time.time() - x3_start)\n",
    "        \n",
    "        x1_errs.append(np.linalg.norm(A @ x1 - b))\n",
    "        x2_errs.append(np.linalg.norm(A @ x2 - b))\n",
    "        x3_errs.append(np.linalg.norm(A @ x3 - b))\n",
    "    \n",
    "    return map(np.mean, [x1_errs, x2_errs, x3_errs, x1_time, x2_time, x3_time])"
   ]
  },
  {
   "cell_type": "code",
   "execution_count": 9,
   "metadata": {},
   "outputs": [],
   "source": [
    "ns = [50, 100, 250, 500]\n",
    "ts = list(zip(*map(partial(get_err, m=10), ns)))"
   ]
  },
  {
   "cell_type": "code",
   "execution_count": 10,
   "metadata": {},
   "outputs": [
    {
     "data": {
      "text/html": [
       "<div>\n",
       "<style scoped>\n",
       "    .dataframe tbody tr th:only-of-type {\n",
       "        vertical-align: middle;\n",
       "    }\n",
       "\n",
       "    .dataframe tbody tr th {\n",
       "        vertical-align: top;\n",
       "    }\n",
       "\n",
       "    .dataframe thead th {\n",
       "        text-align: right;\n",
       "    }\n",
       "</style>\n",
       "<table border=\"1\" class=\"dataframe\">\n",
       "  <thead>\n",
       "    <tr style=\"text-align: right;\">\n",
       "      <th></th>\n",
       "      <th>n</th>\n",
       "      <th>GE</th>\n",
       "      <th>LU</th>\n",
       "    </tr>\n",
       "  </thead>\n",
       "  <tbody>\n",
       "    <tr>\n",
       "      <th>0</th>\n",
       "      <td>50</td>\n",
       "      <td>1.505011e-13</td>\n",
       "      <td>1.422442e-13</td>\n",
       "    </tr>\n",
       "    <tr>\n",
       "      <th>1</th>\n",
       "      <td>100</td>\n",
       "      <td>7.644834e-12</td>\n",
       "      <td>8.885530e-12</td>\n",
       "    </tr>\n",
       "    <tr>\n",
       "      <th>2</th>\n",
       "      <td>250</td>\n",
       "      <td>5.466348e-10</td>\n",
       "      <td>3.608714e-10</td>\n",
       "    </tr>\n",
       "    <tr>\n",
       "      <th>3</th>\n",
       "      <td>500</td>\n",
       "      <td>1.334846e-09</td>\n",
       "      <td>1.112891e-09</td>\n",
       "    </tr>\n",
       "  </tbody>\n",
       "</table>\n",
       "</div>"
      ],
      "text/plain": [
       "     n            GE            LU\n",
       "0   50  1.505011e-13  1.422442e-13\n",
       "1  100  7.644834e-12  8.885530e-12\n",
       "2  250  5.466348e-10  3.608714e-10\n",
       "3  500  1.334846e-09  1.112891e-09"
      ]
     },
     "execution_count": 10,
     "metadata": {},
     "output_type": "execute_result"
    }
   ],
   "source": [
    "err_df = pd.DataFrame({\n",
    "    \"n\": ns,\n",
    "    \"GE\": ts[0],\n",
    "    \"LU\": ts[1],\n",
    "})\n",
    "err_df"
   ]
  },
  {
   "cell_type": "code",
   "execution_count": 11,
   "metadata": {},
   "outputs": [
    {
     "name": "stdout",
     "output_type": "stream",
     "text": [
      "\\begin{tabular}{lrrr}\n",
      "\\toprule\n",
      "{} &    n &            GE &            LU \\\\\n",
      "\\midrule\n",
      "0 &   50 &  1.505011e-13 &  1.422442e-13 \\\\\n",
      "1 &  100 &  7.644834e-12 &  8.885530e-12 \\\\\n",
      "2 &  250 &  5.466348e-10 &  3.608714e-10 \\\\\n",
      "3 &  500 &  1.334846e-09 &  1.112891e-09 \\\\\n",
      "\\bottomrule\n",
      "\\end{tabular}\n",
      "\n"
     ]
    },
    {
     "name": "stderr",
     "output_type": "stream",
     "text": [
      "/var/folders/tc/kg28gjm16xgc5t5lyfvh_5sw0000gn/T/ipykernel_50645/3314175054.py:1: FutureWarning: In future versions `DataFrame.to_latex` is expected to utilise the base implementation of `Styler.to_latex` for formatting and rendering. The arguments signature may therefore change. It is recommended instead to use `DataFrame.style.to_latex` which also contains additional functionality.\n",
      "  print(err_df.to_latex())\n"
     ]
    }
   ],
   "source": [
    "print(err_df.to_latex())"
   ]
  },
  {
   "cell_type": "code",
   "execution_count": 12,
   "metadata": {},
   "outputs": [
    {
     "data": {
      "text/plain": [
       "<AxesSubplot:title={'center':'execution time'}, xlabel='n', ylabel='sec'>"
      ]
     },
     "execution_count": 12,
     "metadata": {},
     "output_type": "execute_result"
    },
    {
     "data": {
      "image/png": "[encoded data removed]",
      "text/plain": [
       "<Figure size 640x480 with 1 Axes>"
      ]
     },
     "metadata": {},
     "output_type": "display_data"
    }
   ],
   "source": [
    "exec_time = pd.DataFrame({\n",
    "    \"n\": ns,\n",
    "    \"GE\": ts[3],\n",
    "    \"LU\": ts[4],\n",
    "    \"NP\": ts[5]\n",
    "})\n",
    "exec_time.plot(\n",
    "    x=\"n\",\n",
    "    y=[\"GE\", \"LU\"],\n",
    "    title=\"execution time\",\n",
    "    legend=True,\n",
    "    ylabel=\"sec\",\n",
    ")\n"
   ]
  },
  {
   "cell_type": "code",
   "execution_count": 13,
   "metadata": {},
   "outputs": [],
   "source": [
    "def get_err_R(n, m = 100):\n",
    "    x1_errs = []\n",
    "    x2_errs = []\n",
    "    x3_errs = []\n",
    "    x1_time = []\n",
    "    x2_time = []\n",
    "    x3_time = []\n",
    "\n",
    "    for _ in range(m):\n",
    "        A = np.random.normal(size=(n, n))\n",
    "        b = np.random.normal(size=(n, 1))\n",
    "        \n",
    "        x1_start = time.time()\n",
    "        x1 = gauss_solve(A, b).unwrap()\n",
    "        x1_time.append(time.time() - x1_start)\n",
    "        \n",
    "        x2_start = time.time()\n",
    "        U, L = lu_decomposition(A).unwrap()\n",
    "        x2 = lu_solve(L, U, b)\n",
    "        x2_time.append(time.time() - x2_start)\n",
    "\n",
    "        x3_start = time.time()\n",
    "        x3 = np.linalg.solve(A, b)\n",
    "        x3_time.append(time.time() - x3_start)\n",
    "        \n",
    "        x1_errs.append(np.linalg.norm(A @ x1 - b))\n",
    "        x2_errs.append(np.linalg.norm(A @ x2 - b))\n",
    "        x3_errs.append(np.linalg.norm(A @ x3 - b))\n",
    "    \n",
    "    return map(np.mean, [x1_errs, x2_errs, x3_errs, x1_time, x2_time, x3_time])"
   ]
  },
  {
   "cell_type": "code",
   "execution_count": 14,
   "metadata": {},
   "outputs": [],
   "source": [
    "\n",
    "ns = [50, 100, 250, 500]\n",
    "ts = list(zip(*map(partial(get_err_R, m=10), ns)))"
   ]
  },
  {
   "cell_type": "code",
   "execution_count": 15,
   "metadata": {},
   "outputs": [
    {
     "data": {
      "text/html": [
       "<div>\n",
       "<style scoped>\n",
       "    .dataframe tbody tr th:only-of-type {\n",
       "        vertical-align: middle;\n",
       "    }\n",
       "\n",
       "    .dataframe tbody tr th {\n",
       "        vertical-align: top;\n",
       "    }\n",
       "\n",
       "    .dataframe thead th {\n",
       "        text-align: right;\n",
       "    }\n",
       "</style>\n",
       "<table border=\"1\" class=\"dataframe\">\n",
       "  <thead>\n",
       "    <tr style=\"text-align: right;\">\n",
       "      <th></th>\n",
       "      <th>n</th>\n",
       "      <th>GE</th>\n",
       "      <th>LU</th>\n",
       "    </tr>\n",
       "  </thead>\n",
       "  <tbody>\n",
       "    <tr>\n",
       "      <th>0</th>\n",
       "      <td>50</td>\n",
       "      <td>3.564803e-11</td>\n",
       "      <td>3.145187e-11</td>\n",
       "    </tr>\n",
       "    <tr>\n",
       "      <th>1</th>\n",
       "      <td>100</td>\n",
       "      <td>4.906939e-11</td>\n",
       "      <td>2.390745e-11</td>\n",
       "    </tr>\n",
       "    <tr>\n",
       "      <th>2</th>\n",
       "      <td>250</td>\n",
       "      <td>1.890665e-09</td>\n",
       "      <td>1.223007e-09</td>\n",
       "    </tr>\n",
       "    <tr>\n",
       "      <th>3</th>\n",
       "      <td>500</td>\n",
       "      <td>1.799276e-09</td>\n",
       "      <td>1.455843e-09</td>\n",
       "    </tr>\n",
       "  </tbody>\n",
       "</table>\n",
       "</div>"
      ],
      "text/plain": [
       "     n            GE            LU\n",
       "0   50  3.564803e-11  3.145187e-11\n",
       "1  100  4.906939e-11  2.390745e-11\n",
       "2  250  1.890665e-09  1.223007e-09\n",
       "3  500  1.799276e-09  1.455843e-09"
      ]
     },
     "execution_count": 15,
     "metadata": {},
     "output_type": "execute_result"
    }
   ],
   "source": [
    "err_df_R = pd.DataFrame({\n",
    "    \"n\": ns,\n",
    "    \"GE\": ts[0],\n",
    "    \"LU\": ts[1],\n",
    "})\n",
    "err_df_R"
   ]
  },
  {
   "cell_type": "code",
   "execution_count": 17,
   "metadata": {},
   "outputs": [
    {
     "name": "stdout",
     "output_type": "stream",
     "text": [
      "\\begin{tabular}{lrrr}\n",
      "\\toprule\n",
      "{} &    n &            GE &            LU \\\\\n",
      "\\midrule\n",
      "0 &   50 &  3.564803e-11 &  3.145187e-11 \\\\\n",
      "1 &  100 &  4.906939e-11 &  2.390745e-11 \\\\\n",
      "2 &  250 &  1.890665e-09 &  1.223007e-09 \\\\\n",
      "3 &  500 &  1.799276e-09 &  1.455843e-09 \\\\\n",
      "\\bottomrule\n",
      "\\end{tabular}\n",
      "\n"
     ]
    },
    {
     "name": "stderr",
     "output_type": "stream",
     "text": [
      "/var/folders/tc/kg28gjm16xgc5t5lyfvh_5sw0000gn/T/ipykernel_50645/4168348787.py:1: FutureWarning: In future versions `DataFrame.to_latex` is expected to utilise the base implementation of `Styler.to_latex` for formatting and rendering. The arguments signature may therefore change. It is recommended instead to use `DataFrame.style.to_latex` which also contains additional functionality.\n",
      "  print(err_df_R.to_latex())\n"
     ]
    }
   ],
   "source": [
    "print(err_df_R.to_latex())"
   ]
  },
  {
   "cell_type": "code",
   "execution_count": 16,
   "metadata": {},
   "outputs": [
    {
     "data": {
      "text/plain": [
       "<AxesSubplot:title={'center':'execution time'}, xlabel='n', ylabel='sec'>"
      ]
     },
     "execution_count": 16,
     "metadata": {},
     "output_type": "execute_result"
    },
    {
     "data": {
      "image/png": "[encoded data removed]",
      "text/plain": [
       "<Figure size 640x480 with 1 Axes>"
      ]
     },
     "metadata": {},
     "output_type": "display_data"
    }
   ],
   "source": [
    "exec_time_R = pd.DataFrame({\n",
    "    \"n\": ns,\n",
    "    \"GE\": ts[3],\n",
    "    \"LU\": ts[4],\n",
    "    \"NP\": ts[5]\n",
    "})\n",
    "exec_time_R.plot(\n",
    "    x=\"n\",\n",
    "    y=[\"GE\", \"LU\"],\n",
    "    title=\"execution time\",\n",
    "    legend=True,\n",
    "    ylabel=\"sec\",\n",
    ")\n",
    "\n"
   ]
  }
 ],
 "metadata": {
  "kernelspec": {
   "display_name": "base",
   "language": "python",
   "name": "python3"
  },
  "language_info": {
   "codemirror_mode": {
    "name": "ipython",
    "version": 3
   },
   "file_extension": ".py",
   "mimetype": "text/x-python",
   "name": "python",
   "nbconvert_exporter": "python",
   "pygments_lexer": "ipython3",
   "version": "3.10.8"
  },
  "orig_nbformat": 4,
  "vscode": {
   "interpreter": {
    "hash": "c6e4e9f98eb68ad3b7c296f83d20e6de614cb42e90992a65aa266555a3137d0d"
   }
  }
 },
 "nbformat": 4,
 "nbformat_minor": 2
}
