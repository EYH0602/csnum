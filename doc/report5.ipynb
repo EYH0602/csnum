{
 "cells": [
  {
   "cell_type": "code",
   "execution_count": 1,
   "metadata": {},
   "outputs": [],
   "source": [
    "import numpy as np\n",
    "import jax.numpy as jnp\n",
    "import time\n",
    "import pandas as pd\n",
    "\n",
    "from numerical_methods.nonlinear_system import fixed_point, newton"
   ]
  },
  {
   "cell_type": "code",
   "execution_count": 2,
   "metadata": {},
   "outputs": [],
   "source": [
    "def g1(x1, x2):\n",
    "    return (x1**2 + x2**2 + 8) / 10\n",
    "\n",
    "def g2(x1, x2):\n",
    "    return (x1*x2**2 + x1 + 8) / 10\n",
    "\n",
    "\n",
    "def f1(x1, x2):\n",
    "    return 4 * x1**2 - 20 * x1 + x2**2 / 4 + 8\n",
    "\n",
    "\n",
    "def f2(x1, x2):\n",
    "    return x1 * x2**2 / 2 + 2 * x1 - 5 * x2 + 8\n",
    "\n",
    "\n",
    "G = [g1, g2]\n",
    "F = np.array([f1, f2])\n",
    "x0 = np.zeros(shape=(2,))"
   ]
  },
  {
   "cell_type": "code",
   "execution_count": 3,
   "metadata": {},
   "outputs": [],
   "source": [
    "def count_iter(xs):\n",
    "    count = 0\n",
    "    xs = np.array(xs)\n",
    "    for i in range(1, len(xs)):\n",
    "        if np.linalg.norm(xs[i] - xs[i-1]) != 0:\n",
    "            count += 1\n",
    "    return count"
   ]
  },
  {
   "cell_type": "code",
   "execution_count": 4,
   "metadata": {},
   "outputs": [
    {
     "data": {
      "text/plain": [
       "13"
      ]
     },
     "execution_count": 4,
     "metadata": {},
     "output_type": "execute_result"
    }
   ],
   "source": [
    "fixed_point_start = time.time()\n",
    "fp_sol = fixed_point(None, x0, tol=10e-6, gs=G)\n",
    "fp_time = time.time() - fixed_point_start\n",
    "fp_iter = count_iter(fp_sol)\n",
    "fp_iter"
   ]
  },
  {
   "cell_type": "code",
   "execution_count": 5,
   "metadata": {},
   "outputs": [
    {
     "data": {
      "text/plain": [
       "4"
      ]
     },
     "execution_count": 5,
     "metadata": {},
     "output_type": "execute_result"
    }
   ],
   "source": [
    "newton(F, np.zeros(shape=(2,)), tol=10e-6)\n",
    "newton_start = time.time()\n",
    "newton_sol = newton(F, x0, tol=10e-6)\n",
    "newton_time = time.time() - newton_start\n",
    "newton_iter = count_iter(newton_sol)\n",
    "newton_iter"
   ]
  },
  {
   "cell_type": "code",
   "execution_count": 6,
   "metadata": {},
   "outputs": [
    {
     "data": {
      "text/html": [
       "<div>\n",
       "<style scoped>\n",
       "    .dataframe tbody tr th:only-of-type {\n",
       "        vertical-align: middle;\n",
       "    }\n",
       "\n",
       "    .dataframe tbody tr th {\n",
       "        vertical-align: top;\n",
       "    }\n",
       "\n",
       "    .dataframe thead th {\n",
       "        text-align: right;\n",
       "    }\n",
       "</style>\n",
       "<table border=\"1\" class=\"dataframe\">\n",
       "  <thead>\n",
       "    <tr style=\"text-align: right;\">\n",
       "      <th></th>\n",
       "      <th>Execution Time</th>\n",
       "      <th>#Iteration</th>\n",
       "    </tr>\n",
       "  </thead>\n",
       "  <tbody>\n",
       "    <tr>\n",
       "      <th>Fixed Point</th>\n",
       "      <td>0.067692</td>\n",
       "      <td>13.0</td>\n",
       "    </tr>\n",
       "    <tr>\n",
       "      <th>Newton</th>\n",
       "      <td>0.042668</td>\n",
       "      <td>4.0</td>\n",
       "    </tr>\n",
       "  </tbody>\n",
       "</table>\n",
       "</div>"
      ],
      "text/plain": [
       "             Execution Time  #Iteration\n",
       "Fixed Point        0.067692        13.0\n",
       "Newton             0.042668         4.0"
      ]
     },
     "execution_count": 6,
     "metadata": {},
     "output_type": "execute_result"
    }
   ],
   "source": [
    "df = pd.DataFrame({\n",
    "    \"Fixed Point\": [fp_time, fp_iter],\n",
    "    \"Newton\": [newton_time, newton_iter],\n",
    "}).T\n",
    "df = df.set_axis([\"Execution Time\", \"#Iteration\"], axis=1)\n",
    "df"
   ]
  },
  {
   "cell_type": "code",
   "execution_count": 7,
   "metadata": {},
   "outputs": [
    {
     "name": "stdout",
     "output_type": "stream",
     "text": [
      "\\begin{tabular}{lrr}\n",
      "\\toprule\n",
      "{} &  Execution Time &  \\#Iteration \\\\\n",
      "\\midrule\n",
      "Fixed Point &        0.067692 &        13.0 \\\\\n",
      "Newton      &        0.042668 &         4.0 \\\\\n",
      "\\bottomrule\n",
      "\\end{tabular}\n",
      "\n"
     ]
    },
    {
     "name": "stderr",
     "output_type": "stream",
     "text": [
      "/var/folders/tc/kg28gjm16xgc5t5lyfvh_5sw0000gn/T/ipykernel_29049/2350534188.py:1: FutureWarning: In future versions `DataFrame.to_latex` is expected to utilise the base implementation of `Styler.to_latex` for formatting and rendering. The arguments signature may therefore change. It is recommended instead to use `DataFrame.style.to_latex` which also contains additional functionality.\n",
      "  print(df.to_latex())\n"
     ]
    }
   ],
   "source": [
    "print(df.to_latex())"
   ]
  },
  {
   "cell_type": "code",
   "execution_count": 8,
   "metadata": {},
   "outputs": [
    {
     "data": {
      "text/html": [
       "<div>\n",
       "<style scoped>\n",
       "    .dataframe tbody tr th:only-of-type {\n",
       "        vertical-align: middle;\n",
       "    }\n",
       "\n",
       "    .dataframe tbody tr th {\n",
       "        vertical-align: top;\n",
       "    }\n",
       "\n",
       "    .dataframe thead th {\n",
       "        text-align: right;\n",
       "    }\n",
       "</style>\n",
       "<table border=\"1\" class=\"dataframe\">\n",
       "  <thead>\n",
       "    <tr style=\"text-align: right;\">\n",
       "      <th></th>\n",
       "      <th>Fixed Point</th>\n",
       "      <th>Newton</th>\n",
       "    </tr>\n",
       "  </thead>\n",
       "  <tbody>\n",
       "    <tr>\n",
       "      <th>0</th>\n",
       "      <td>1.131371</td>\n",
       "      <td>1.804882</td>\n",
       "    </tr>\n",
       "    <tr>\n",
       "      <th>1</th>\n",
       "      <td>0.183296</td>\n",
       "      <td>0.243133</td>\n",
       "    </tr>\n",
       "    <tr>\n",
       "      <th>2</th>\n",
       "      <td>0.061480</td>\n",
       "      <td>0.017013</td>\n",
       "    </tr>\n",
       "    <tr>\n",
       "      <th>3</th>\n",
       "      <td>0.023123</td>\n",
       "      <td>0.000064</td>\n",
       "    </tr>\n",
       "    <tr>\n",
       "      <th>4</th>\n",
       "      <td>0.009034</td>\n",
       "      <td>0.000000</td>\n",
       "    </tr>\n",
       "    <tr>\n",
       "      <th>5</th>\n",
       "      <td>0.003580</td>\n",
       "      <td>0.000000</td>\n",
       "    </tr>\n",
       "    <tr>\n",
       "      <th>6</th>\n",
       "      <td>0.001427</td>\n",
       "      <td>0.000000</td>\n",
       "    </tr>\n",
       "    <tr>\n",
       "      <th>7</th>\n",
       "      <td>0.000570</td>\n",
       "      <td>0.000000</td>\n",
       "    </tr>\n",
       "    <tr>\n",
       "      <th>8</th>\n",
       "      <td>0.000228</td>\n",
       "      <td>0.000000</td>\n",
       "    </tr>\n",
       "    <tr>\n",
       "      <th>9</th>\n",
       "      <td>0.000091</td>\n",
       "      <td>0.000000</td>\n",
       "    </tr>\n",
       "    <tr>\n",
       "      <th>10</th>\n",
       "      <td>0.000036</td>\n",
       "      <td>0.000000</td>\n",
       "    </tr>\n",
       "    <tr>\n",
       "      <th>11</th>\n",
       "      <td>0.000015</td>\n",
       "      <td>0.000000</td>\n",
       "    </tr>\n",
       "    <tr>\n",
       "      <th>12</th>\n",
       "      <td>0.000006</td>\n",
       "      <td>0.000000</td>\n",
       "    </tr>\n",
       "    <tr>\n",
       "      <th>13</th>\n",
       "      <td>0.000000</td>\n",
       "      <td>0.000000</td>\n",
       "    </tr>\n",
       "  </tbody>\n",
       "</table>\n",
       "</div>"
      ],
      "text/plain": [
       "    Fixed Point    Newton\n",
       "0      1.131371  1.804882\n",
       "1      0.183296  0.243133\n",
       "2      0.061480  0.017013\n",
       "3      0.023123  0.000064\n",
       "4      0.009034  0.000000\n",
       "5      0.003580  0.000000\n",
       "6      0.001427  0.000000\n",
       "7      0.000570  0.000000\n",
       "8      0.000228  0.000000\n",
       "9      0.000091  0.000000\n",
       "10     0.000036  0.000000\n",
       "11     0.000015  0.000000\n",
       "12     0.000006  0.000000\n",
       "13     0.000000  0.000000"
      ]
     },
     "execution_count": 8,
     "metadata": {},
     "output_type": "execute_result"
    }
   ],
   "source": [
    "\n",
    "def get_residual_error(xs):\n",
    "    niter = len(xs)\n",
    "    errs = []\n",
    "    for i in range(1, niter):\n",
    "        errs.append(np.linalg.norm(xs[i] - xs[i-1]))\n",
    "    return errs\n",
    "\n",
    "err_df = pd.DataFrame({\n",
    "    \"Fixed Point\": get_residual_error(fp_sol),\n",
    "    \"Newton\": get_residual_error(newton_sol),\n",
    "})\n",
    "err_df"
   ]
  },
  {
   "cell_type": "code",
   "execution_count": 9,
   "metadata": {},
   "outputs": [
    {
     "data": {
      "text/plain": [
       "<AxesSubplot:title={'center':'error verse iteration number for each method'}, xlabel='iteration', ylabel='error'>"
      ]
     },
     "execution_count": 9,
     "metadata": {},
     "output_type": "execute_result"
    },
    {
     "data": {
      "image/png": "[encoded data removed]",
      "text/plain": [
       "<Figure size 640x480 with 1 Axes>"
      ]
     },
     "metadata": {},
     "output_type": "display_data"
    }
   ],
   "source": [
    "err_df.plot(\n",
    "    title=\"error verse iteration number for each method\",\n",
    "    legend=True,\n",
    "    xlabel=\"iteration\",\n",
    "    ylabel=\"error\",\n",
    ")"
   ]
  }
 ],
 "metadata": {
  "kernelspec": {
   "display_name": "base",
   "language": "python",
   "name": "python3"
  },
  "language_info": {
   "codemirror_mode": {
    "name": "ipython",
    "version": 3
   },
   "file_extension": ".py",
   "mimetype": "text/x-python",
   "name": "python",
   "nbconvert_exporter": "python",
   "pygments_lexer": "ipython3",
   "version": "3.10.8"
  },
  "orig_nbformat": 4
 },
 "nbformat": 4,
 "nbformat_minor": 2
}
