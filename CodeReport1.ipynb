{
 "cells": [
  {
   "cell_type": "code",
   "execution_count": 1,
   "metadata": {},
   "outputs": [],
   "source": [
    "import matplotlib.pyplot as plt\n",
    "import jax.numpy as np\n",
    "from jax import grad, jit, vmap\n",
    "import pandas as pd\n",
    "from typing import Tuple, Callable, Dict, List"
   ]
  },
  {
   "cell_type": "code",
   "execution_count": 2,
   "metadata": {},
   "outputs": [],
   "source": [
    "Cts = Callable[float, float]  # not true, but works for know\n",
    "\n",
    "\n",
    "def deriv(f: Cts) -> Cts:\n",
    "    df = grad(f)\n",
    "    return lambda xs: np.array([df(x) for x in xs])\n",
    "\n",
    "\n",
    "def to_df(an, bn, pn, fpn):\n",
    "    return pd.DataFrame({\"a_n\": an, \"b_n\": bn, \"p_n\": pn, \"f(p_n)\": fpn})\n",
    "\n",
    "\n",
    "def f1(x):\n",
    "    return np.sin(np.power(x - 1, 2)) / 2\n",
    "\n",
    "\n",
    "def f2(x):\n",
    "    return np.power(5, -x) - 2\n",
    "\n",
    "\n",
    "def f3(x):\n",
    "    return np.power(x, 2)"
   ]
  },
  {
   "cell_type": "code",
   "execution_count": 3,
   "metadata": {},
   "outputs": [],
   "source": [
    "def Bisection(f: Cts, x: Tuple[float, float], eps=1e-4, max_iter=15):\n",
    "    start, end = x\n",
    "    a = [start]\n",
    "    b = [end]\n",
    "    mid = lambda a, b: a + (b - a) / 2\n",
    "    p = []\n",
    "    fp = []\n",
    "    for i in range(max_iter):\n",
    "        p.append(mid(a[i], b[i]))\n",
    "        fp.append(f(p[i]))\n",
    "        if fp[i] == 0 or (b[i] - a[i]) / 2 < eps:\n",
    "            break\n",
    "        if fp[i] * f(a[i]) > 0:\n",
    "            a.append(p[i])\n",
    "            b.append(b[i])\n",
    "        else:\n",
    "            a.append(a[i])\n",
    "            b.append(p[i])\n",
    "    return to_df(a, b, p, fp)"
   ]
  },
  {
   "cell_type": "code",
   "execution_count": 4,
   "metadata": {},
   "outputs": [],
   "source": [
    "x = np.linspace(-1, 2)"
   ]
  },
  {
   "cell_type": "code",
   "execution_count": 5,
   "metadata": {},
   "outputs": [
    {
     "data": {
      "text/html": [
       "<div>\n",
       "<style scoped>\n",
       "    .dataframe tbody tr th:only-of-type {\n",
       "        vertical-align: middle;\n",
       "    }\n",
       "\n",
       "    .dataframe tbody tr th {\n",
       "        vertical-align: top;\n",
       "    }\n",
       "\n",
       "    .dataframe thead th {\n",
       "        text-align: right;\n",
       "    }\n",
       "</style>\n",
       "<table border=\"1\" class=\"dataframe\">\n",
       "  <thead>\n",
       "    <tr style=\"text-align: right;\">\n",
       "      <th></th>\n",
       "      <th>a_n</th>\n",
       "      <th>b_n</th>\n",
       "      <th>p_n</th>\n",
       "      <th>f(p_n)</th>\n",
       "    </tr>\n",
       "  </thead>\n",
       "  <tbody>\n",
       "    <tr>\n",
       "      <th>0</th>\n",
       "      <td>1</td>\n",
       "      <td>2.000000</td>\n",
       "      <td>1.500000</td>\n",
       "      <td>0.12370198</td>\n",
       "    </tr>\n",
       "    <tr>\n",
       "      <th>1</th>\n",
       "      <td>1</td>\n",
       "      <td>1.500000</td>\n",
       "      <td>1.250000</td>\n",
       "      <td>0.031229658</td>\n",
       "    </tr>\n",
       "    <tr>\n",
       "      <th>2</th>\n",
       "      <td>1</td>\n",
       "      <td>1.250000</td>\n",
       "      <td>1.125000</td>\n",
       "      <td>0.007812182</td>\n",
       "    </tr>\n",
       "    <tr>\n",
       "      <th>3</th>\n",
       "      <td>1</td>\n",
       "      <td>1.125000</td>\n",
       "      <td>1.062500</td>\n",
       "      <td>0.00195312</td>\n",
       "    </tr>\n",
       "    <tr>\n",
       "      <th>4</th>\n",
       "      <td>1</td>\n",
       "      <td>1.062500</td>\n",
       "      <td>1.031250</td>\n",
       "      <td>0.00048828116</td>\n",
       "    </tr>\n",
       "    <tr>\n",
       "      <th>5</th>\n",
       "      <td>1</td>\n",
       "      <td>1.031250</td>\n",
       "      <td>1.015625</td>\n",
       "      <td>0.00012207031</td>\n",
       "    </tr>\n",
       "    <tr>\n",
       "      <th>6</th>\n",
       "      <td>1</td>\n",
       "      <td>1.015625</td>\n",
       "      <td>1.007812</td>\n",
       "      <td>3.0517578e-05</td>\n",
       "    </tr>\n",
       "    <tr>\n",
       "      <th>7</th>\n",
       "      <td>1</td>\n",
       "      <td>1.007812</td>\n",
       "      <td>1.003906</td>\n",
       "      <td>7.6293945e-06</td>\n",
       "    </tr>\n",
       "    <tr>\n",
       "      <th>8</th>\n",
       "      <td>1</td>\n",
       "      <td>1.003906</td>\n",
       "      <td>1.001953</td>\n",
       "      <td>1.9073486e-06</td>\n",
       "    </tr>\n",
       "    <tr>\n",
       "      <th>9</th>\n",
       "      <td>1</td>\n",
       "      <td>1.001953</td>\n",
       "      <td>1.000977</td>\n",
       "      <td>4.7683716e-07</td>\n",
       "    </tr>\n",
       "    <tr>\n",
       "      <th>10</th>\n",
       "      <td>1</td>\n",
       "      <td>1.000977</td>\n",
       "      <td>1.000488</td>\n",
       "      <td>1.1920929e-07</td>\n",
       "    </tr>\n",
       "    <tr>\n",
       "      <th>11</th>\n",
       "      <td>1</td>\n",
       "      <td>1.000488</td>\n",
       "      <td>1.000244</td>\n",
       "      <td>2.9802322e-08</td>\n",
       "    </tr>\n",
       "    <tr>\n",
       "      <th>12</th>\n",
       "      <td>1</td>\n",
       "      <td>1.000244</td>\n",
       "      <td>1.000122</td>\n",
       "      <td>7.450581e-09</td>\n",
       "    </tr>\n",
       "    <tr>\n",
       "      <th>13</th>\n",
       "      <td>1</td>\n",
       "      <td>1.000122</td>\n",
       "      <td>1.000061</td>\n",
       "      <td>1.8626451e-09</td>\n",
       "    </tr>\n",
       "  </tbody>\n",
       "</table>\n",
       "</div>"
      ],
      "text/plain": [
       "    a_n       b_n       p_n         f(p_n)\n",
       "0     1  2.000000  1.500000     0.12370198\n",
       "1     1  1.500000  1.250000    0.031229658\n",
       "2     1  1.250000  1.125000    0.007812182\n",
       "3     1  1.125000  1.062500     0.00195312\n",
       "4     1  1.062500  1.031250  0.00048828116\n",
       "5     1  1.031250  1.015625  0.00012207031\n",
       "6     1  1.015625  1.007812  3.0517578e-05\n",
       "7     1  1.007812  1.003906  7.6293945e-06\n",
       "8     1  1.003906  1.001953  1.9073486e-06\n",
       "9     1  1.001953  1.000977  4.7683716e-07\n",
       "10    1  1.000977  1.000488  1.1920929e-07\n",
       "11    1  1.000488  1.000244  2.9802322e-08\n",
       "12    1  1.000244  1.000122   7.450581e-09\n",
       "13    1  1.000122  1.000061  1.8626451e-09"
      ]
     },
     "execution_count": 5,
     "metadata": {},
     "output_type": "execute_result"
    }
   ],
   "source": [
    "res = Bisection(f1, (1, 2))\n",
    "res"
   ]
  },
  {
   "cell_type": "code",
   "execution_count": 6,
   "metadata": {},
   "outputs": [
    {
     "data": {
      "text/plain": [
       "[<matplotlib.lines.Line2D at 0x135239960>]"
      ]
     },
     "execution_count": 6,
     "metadata": {},
     "output_type": "execute_result"
    },
    {
     "data": {
      "image/png": "[encoded data removed]",
      "text/plain": [
       "<Figure size 640x480 with 1 Axes>"
      ]
     },
     "metadata": {},
     "output_type": "display_data"
    }
   ],
   "source": [
    "y = f1(x)\n",
    "plt.scatter([res[\"p_n\"].iat[-1]], [0], color=\"black\")\n",
    "plt.plot(x, np.zeros(np.shape(x)))\n",
    "plt.plot(x, y)"
   ]
  }
 ],
 "metadata": {
  "kernelspec": {
   "display_name": "base",
   "language": "python",
   "name": "python3"
  },
  "language_info": {
   "codemirror_mode": {
    "name": "ipython",
    "version": 3
   },
   "file_extension": ".py",
   "mimetype": "text/x-python",
   "name": "python",
   "nbconvert_exporter": "python",
   "pygments_lexer": "ipython3",
   "version": "3.10.8"
  },
  "orig_nbformat": 4,
  "vscode": {
   "interpreter": {
    "hash": "c6e4e9f98eb68ad3b7c296f83d20e6de614cb42e90992a65aa266555a3137d0d"
   }
  }
 },
 "nbformat": 4,
 "nbformat_minor": 2
}
