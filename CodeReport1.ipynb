{
 "cells": [
  {
   "cell_type": "code",
   "execution_count": 1,
   "metadata": {},
   "outputs": [],
   "source": [
    "import matplotlib.pyplot as plt\n",
    "import jax.numpy as np\n",
    "from jax import grad, jit, vmap\n",
    "import pandas as pd\n",
    "from typing import Tuple, Callable, Dict, List, TypeVar"
   ]
  },
  {
   "cell_type": "code",
   "execution_count": 2,
   "metadata": {},
   "outputs": [],
   "source": [
    "Cts = Callable[float, float]  # not true, but works for know\n",
    "\n",
    "\n",
    "def f1(x):\n",
    "    return np.sin(np.power(x - 1, 2)) / 2\n",
    "\n",
    "\n",
    "def f2(x):\n",
    "    return np.power(5, -x) - 2\n"
   ]
  },
  {
   "cell_type": "code",
   "execution_count": 3,
   "metadata": {},
   "outputs": [],
   "source": [
    "def Bisection(f: Cts, x: Tuple[float, float], eps=1e-4, max_iter=15):\n",
    "    start, end = x\n",
    "    a = [start]\n",
    "    b = [end]\n",
    "\n",
    "    def mid(a, b):\n",
    "        return (a + b) / 2\n",
    "\n",
    "    p = []\n",
    "    fp = []\n",
    "    for i in range(max_iter):\n",
    "        p.append(mid(a[i], b[i]))\n",
    "        fp.append(f(p[i]))\n",
    "        if fp[i] == 0 or (b[i] - a[i]) / 2 < eps:\n",
    "            break\n",
    "        if fp[i] * f(a[i]) > 0:\n",
    "            a.append(p[i])\n",
    "            b.append(b[i])\n",
    "        else:\n",
    "            a.append(a[i])\n",
    "            b.append(p[i])\n",
    "    return p"
   ]
  },
  {
   "cell_type": "code",
   "execution_count": 4,
   "metadata": {},
   "outputs": [],
   "source": [
    "x = np.linspace(-1, 2)"
   ]
  },
  {
   "cell_type": "code",
   "execution_count": 5,
   "metadata": {},
   "outputs": [
    {
     "data": {
      "text/plain": [
       "[0.5,\n",
       " -0.25,\n",
       " -0.625,\n",
       " -0.8125,\n",
       " -0.71875,\n",
       " -0.765625,\n",
       " -0.7890625,\n",
       " -0.77734375,\n",
       " -0.771484375,\n",
       " -0.7744140625,\n",
       " -0.77294921875,\n",
       " -0.772216796875,\n",
       " -0.7725830078125,\n",
       " -0.77239990234375,\n",
       " -0.772491455078125]"
      ]
     },
     "execution_count": 5,
     "metadata": {},
     "output_type": "execute_result"
    }
   ],
   "source": [
    "res = Bisection(f1, (-1, 2))\n",
    "res"
   ]
  },
  {
   "cell_type": "code",
   "execution_count": 6,
   "metadata": {},
   "outputs": [
    {
     "data": {
      "text/plain": [
       "[<matplotlib.lines.Line2D at 0x1466fed40>]"
      ]
     },
     "execution_count": 6,
     "metadata": {},
     "output_type": "execute_result"
    },
    {
     "data": {
      "image/png": "[encoded data removed]",
      "text/plain": [
       "<Figure size 640x480 with 1 Axes>"
      ]
     },
     "metadata": {},
     "output_type": "display_data"
    }
   ],
   "source": [
    "y = f1(x)\n",
    "plt.scatter(res[-1], [0], color=\"black\")\n",
    "plt.plot(x, np.zeros(np.shape(x)))\n",
    "plt.plot(x, y)"
   ]
  },
  {
   "cell_type": "code",
   "execution_count": 7,
   "metadata": {},
   "outputs": [],
   "source": [
    "def General_Iter_Method(\n",
    "    succ: Callable[List[float], float],\n",
    "    p0: float,\n",
    "    tol: float,\n",
    "    max_iter: int,\n",
    "):\n",
    "    p: List[float] = []\n",
    "    p.append(p0)\n",
    "    for i in range(1, max_iter):\n",
    "        p.append(succ(p))\n",
    "        if np.abs(p[i] - p[i - 1]) < tol:\n",
    "            break\n",
    "    return p\n",
    "\n",
    "\n",
    "def Fixed_Point(f: Cts, p0: float, tol=1e-4, max_iter=15, g=None):\n",
    "    if g is None:\n",
    "\n",
    "        def g(x):\n",
    "            return x - f(x)\n",
    "\n",
    "    return General_Iter_Method(g, p0, tol, max_iter)\n",
    "\n",
    "\n",
    "def Newton(f: Cts, p0: float, tol=1e-4, max_iter=15):\n",
    "    p0 = float(p0)\n",
    "\n",
    "    def succ(ps):\n",
    "        p = ps[-1]\n",
    "        return float(p - f(p) / grad(f)(p))\n",
    "\n",
    "    return General_Iter_Method(succ, p0, tol, max_iter)\n",
    "\n",
    "\n",
    "def Secant(f: Cts, p: Tuple[float, float], eps=1e-4, max_iter=15):\n",
    "    p0_org, p1_org = p\n",
    "\n",
    "    def succ(ps):\n",
    "        if len(ps) == 1:\n",
    "            return p1_org\n",
    "    \n",
    "        p0, p1 = ps[-2:]\n",
    "        q0 = f(p0)\n",
    "        q1 = f(p1)\n",
    "\n",
    "        p2 = p1 - q1 * (p1 - p0) / (q1 - q0)\n",
    "        return p2\n",
    "\n",
    "    return General_Iter_Method(succ, p0_org, tol, max_iter)"
   ]
  }
 ],
 "metadata": {
  "kernelspec": {
   "display_name": "base",
   "language": "python",
   "name": "python3"
  },
  "language_info": {
   "codemirror_mode": {
    "name": "ipython",
    "version": 3
   },
   "file_extension": ".py",
   "mimetype": "text/x-python",
   "name": "python",
   "nbconvert_exporter": "python",
   "pygments_lexer": "ipython3",
   "version": "3.10.8"
  },
  "orig_nbformat": 4,
  "vscode": {
   "interpreter": {
    "hash": "c6e4e9f98eb68ad3b7c296f83d20e6de614cb42e90992a65aa266555a3137d0d"
   }
  }
 },
 "nbformat": 4,
 "nbformat_minor": 2
}
